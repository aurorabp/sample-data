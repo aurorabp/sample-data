{
 "cells": [
  {
   "cell_type": "markdown",
   "metadata": {},
   "source": [
    "# Example notebook: data observation and plotting\n",
    "First, download the sample data stored in the `sample` directory. Then set SAMPLE_DIR in the first cell to point to that location. This example notebook uses both the `features.tsv` and `participants.tsv` files."
   ]
  },
  {
   "cell_type": "code",
   "execution_count": null,
   "metadata": {},
   "outputs": [],
   "source": [
    "# Imports.\n",
    "import pandas as pd\n",
    "import matplotlib.pyplot as plt\n",
    "import seaborn as sns\n",
    "import os\n",
    "\n",
    "# Location of 'sample' directory.\n",
    "SAMPLE_DIR=\"c:/Data/ABPM/sample\""
   ]
  },
  {
   "cell_type": "code",
   "execution_count": null,
   "metadata": {},
   "outputs": [],
   "source": [
    "# Load as dataframes, and join features/participants files on pid field.\n",
    "ppt_df = pd.read_csv(os.path.join(SAMPLE_DIR, 'participants.tsv'), delimiter='\\t')\n",
    "feat_df = pd.read_csv(os.path.join(SAMPLE_DIR, 'features.tsv'), delimiter='\\t')\n",
    "comb_df = ppt_df.merge(feat_df, how='left', left_on='pid', right_on='pid')\n",
    "\n",
    "# View combined dataframe.\n",
    "comb_df\n"
   ]
  },
  {
   "cell_type": "code",
   "execution_count": null,
   "metadata": {},
   "outputs": [],
   "source": [
    "# Bin age into 10-year intervals, and plot discretized histogram.\n",
    "comb_df['age_bin'] = pd.cut(comb_df['age'], bins=[20, 30, 40, 50, 60, 70, 80])\n",
    "sns.countplot(x='age_bin', data=comb_df)\n",
    "plt.xlabel('Age (years)')"
   ]
  },
  {
   "cell_type": "code",
   "execution_count": null,
   "metadata": {},
   "outputs": [],
   "source": [
    "# Plot resting SBP vs. age bin.\n",
    "sns.boxplot(x='age_bin', y='baseline_sbp', data=comb_df)\n",
    "plt.xlabel('Age (years)')\n",
    "plt.ylabel('Resting SBP (mmHg)')"
   ]
  },
  {
   "cell_type": "code",
   "execution_count": null,
   "metadata": {},
   "outputs": [],
   "source": [
    "# Change in rPAT vs. change in SBP stratified by age. \n",
    "sns.jointplot(x='delta_sbp', y='delta_rpat_pressure', hue='age_bin', data=comb_df)"
   ]
  }
 ],
 "metadata": {
  "interpreter": {
   "hash": "b18b75db36c2d0d85abbd33565ed2654ca27e8bd1e1e0321301bf8151a8b2927"
  },
  "kernelspec": {
   "display_name": "Python 3",
   "language": "python",
   "name": "python3"
  },
  "language_info": {
   "codemirror_mode": {
    "name": "ipython",
    "version": 3
   },
   "file_extension": ".py",
   "mimetype": "text/x-python",
   "name": "python",
   "nbconvert_exporter": "python",
   "pygments_lexer": "ipython3",
   "version": "3.6.13"
  }
 },
 "nbformat": 4,
 "nbformat_minor": 2
}
